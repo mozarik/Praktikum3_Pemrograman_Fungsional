{
 "metadata": {
  "language_info": {
   "codemirror_mode": {
    "name": "ipython",
    "version": 3
   },
   "file_extension": ".py",
   "mimetype": "text/x-python",
   "name": "python",
   "nbconvert_exporter": "python",
   "pygments_lexer": "ipython3",
   "version": "3.8.1-final"
  },
  "orig_nbformat": 2,
  "kernelspec": {
   "name": "Python 3.8.1 64-bit",
   "display_name": "Python 3.8.1 64-bit",
   "metadata": {
    "interpreter": {
     "hash": "2db524e06e9f5f4ffedc911c917cb75e12dbc923643829bf417064a77eb14d37"
    }
   }
  }
 },
 "nbformat": 4,
 "nbformat_minor": 2,
 "cells": [
  {
   "cell_type": "code",
   "execution_count": 20,
   "metadata": {},
   "outputs": [],
   "source": [
    "import Kegiatan1 as kg1\n",
    "from pprint import pprint"
   ]
  },
  {
   "cell_type": "code",
   "execution_count": 2,
   "metadata": {},
   "outputs": [],
   "source": [
    "data = [{'nama': 'Zein1', 'umur': 1, 'pekerjaan': 'mahasiswa', 'gaji': 1},\n",
    "        {'nama': 'Zein2', 'umur': 2, 'pekerjaan': 'mahasiswa', 'gaji': 2},\n",
    "        {'nama': 'Zein3', 'umur': 3, 'pekerjaan': 'mahasiswa', 'gaji': 3},\n",
    "        {'nama': 'Zein4', 'umur': 4, 'pekerjaan': 'mahasiswa', 'gaji': 4},\n",
    "        {'nama': 'Zein5', 'umur': 5, 'pekerjaan': 'mahasiswa', 'gaji': 5}]"
   ]
  },
  {
   "cell_type": "code",
   "execution_count": 9,
   "metadata": {},
   "outputs": [
    {
     "output_type": "stream",
     "name": "stdout",
     "text": [
      "[{'gaji': 1, 'nama': 'Zein1', 'universitas': 'Universitas Muhammadiyah Malang'},\n {'gaji': 3, 'nama': 'Zein3', 'universitas': 'Universitas Muhammadiyah Malang'},\n {'gaji': 4, 'nama': 'Zein4', 'universitas': 'Universitas Muhammadiyah Malang'},\n {'gaji': 5, 'nama': 'Zein5', 'universitas': 'Universitas Muhammadiyah Malang'}]\n"
     ]
    }
   ],
   "source": [
    "pprint(kg1.pertama_z(data))"
   ]
  },
  {
   "cell_type": "code",
   "execution_count": 4,
   "metadata": {},
   "outputs": [
    {
     "output_type": "execute_result",
     "data": {
      "text/plain": [
       "[{'nama': 'Zein1', 'umur': 1, 'pekerjaan': 'mahasiswa', 'gaji': 1},\n",
       " {'nama': 'Zein3', 'umur': 3, 'pekerjaan': 'mahasiswa', 'gaji': 3},\n",
       " {'nama': 'Zein4', 'umur': 4, 'pekerjaan': 'mahasiswa', 'gaji': 4},\n",
       " {'nama': 'Zein5', 'umur': 5, 'pekerjaan': 'mahasiswa', 'gaji': 5}]"
      ]
     },
     "metadata": {},
     "execution_count": 4
    }
   ],
   "source": [
    "kg1.kedua_e(data)"
   ]
  },
  {
   "cell_type": "code",
   "execution_count": 5,
   "metadata": {},
   "outputs": [
    {
     "output_type": "stream",
     "name": "stdout",
     "text": [
      "Nama : Zein1 \nUmur: 1 \nPekerjaan: mahasiswa \nGaji : 1\n---------------------------\nNama : Zein3 \nUmur: 3 \nPekerjaan: mahasiswa \nGaji : 3\n---------------------------\nNama : Zein4 \nUmur: 4 \nPekerjaan: mahasiswa \nGaji : 4\n---------------------------\nNama : Zein5 \nUmur: 5 \nPekerjaan: mahasiswa \nGaji : 5\n---------------------------\n"
     ]
    }
   ],
   "source": [
    "kg1.ketiga_i(data)"
   ]
  },
  {
   "cell_type": "code",
   "execution_count": 10,
   "metadata": {},
   "outputs": [
    {
     "output_type": "stream",
     "name": "stdout",
     "text": [
      "[{'gaji': 1,\n  'nama': 'Zein1',\n  'pekerjaan': 'mahasiswa',\n  'umur': 1,\n  'universitas': 'Universitas Muhammadiyah Malang'},\n {'gaji': 3,\n  'nama': 'Zein3',\n  'pekerjaan': 'mahasiswa',\n  'umur': 3,\n  'universitas': 'Universitas Muhammadiyah Malang'},\n {'gaji': 4,\n  'nama': 'Zein4',\n  'pekerjaan': 'mahasiswa',\n  'umur': 4,\n  'universitas': 'Universitas Muhammadiyah Malang'},\n {'gaji': 5,\n  'nama': 'Zein5',\n  'pekerjaan': 'mahasiswa',\n  'umur': 5,\n  'universitas': 'Universitas Muhammadiyah Malang'}]\n"
     ]
    }
   ],
   "source": [
    "kg1.keempat_n(data)\n",
    "pprint(data)"
   ]
  },
  {
   "cell_type": "code",
   "execution_count": 11,
   "metadata": {},
   "outputs": [
    {
     "output_type": "stream",
     "name": "stdout",
     "text": [
      "[{'gaji': 1,\n  'nama': 'Zein1',\n  'pekerjaan': 'mahasiswa',\n  'umur': 1,\n  'universitas': 'ITB'},\n {'gaji': 3,\n  'nama': 'Zein3',\n  'pekerjaan': 'mahasiswa',\n  'umur': 3,\n  'universitas': 'UMM'},\n {'gaji': 4,\n  'nama': 'Zein4',\n  'pekerjaan': 'mahasiswa',\n  'umur': 4,\n  'universitas': 'ITS'},\n {'gaji': 5,\n  'nama': 'Zein5',\n  'pekerjaan': 'mahasiswa',\n  'umur': 5,\n  'universitas': 'UB'}]\n"
     ]
    }
   ],
   "source": [
    "kg1.kelima_f(data)\n",
    "pprint(data)"
   ]
  },
  {
   "cell_type": "code",
   "execution_count": 21,
   "metadata": {},
   "outputs": [
    {
     "output_type": "stream",
     "name": "stdout",
     "text": [
      "Nama : Zein1 \nUmur: 1 \nPekerjaan: mahasiswa \nGaji : 1Universitas: ITB\n---------------------------\nNama : Zein3 \nUmur: 3 \nPekerjaan: mahasiswa \nGaji : 3Universitas: UMM\n---------------------------\nNama : Zein4 \nUmur: 4 \nPekerjaan: mahasiswa \nGaji : 4Universitas: ITS\n---------------------------\nNama : Zein5 \nUmur: 5 \nPekerjaan: mahasiswa \nGaji : 5Universitas: UB\n---------------------------\n"
     ]
    }
   ],
   "source": [
    "kg1.keenam_a(data)"
   ]
  },
  {
   "cell_type": "code",
   "execution_count": 23,
   "metadata": {},
   "outputs": [
    {
     "output_type": "stream",
     "name": "stdout",
     "text": [
      "[{'gaji': 1,\n  'nama': 'Zein1',\n  'pekerjaan': 'mahasiswa',\n  'umur': 69,\n  'universitas': 'ITB'},\n {'gaji': 100,\n  'nama': 'Zein3',\n  'pekerjaan': 'mahasiswa',\n  'umur': 3,\n  'universitas': 'UMM'},\n {'gaji': 4,\n  'nama': 'Zein4',\n  'pekerjaan': 'pengangguran',\n  'umur': 4,\n  'universitas': 'ITS'},\n {'gaji': 5,\n  'nama': 'Zein5',\n  'pekerjaan': 'mahasiswa',\n  'umur': 5,\n  'universitas': 'UB'}]\n"
     ]
    }
   ],
   "source": [
    "kg1.ketujuh_h(data)\n",
    "pprint(data)"
   ]
  },
  {
   "cell_type": "code",
   "execution_count": 24,
   "metadata": {},
   "outputs": [
    {
     "output_type": "stream",
     "name": "stdout",
     "text": [
      "Nama : Zein1 \nUmur: 69 \nPekerjaan: mahasiswa \nGaji : 1Universitas: ITB\n---------------------------\nNama : Zein3 \nUmur: 3 \nPekerjaan: mahasiswa \nGaji : 100Universitas: UMM\n---------------------------\nNama : Zein4 \nUmur: 4 \nPekerjaan: pengangguran \nGaji : 4Universitas: ITS\n---------------------------\nNama : Zein5 \nUmur: 5 \nPekerjaan: mahasiswa \nGaji : 5Universitas: UB\n---------------------------\n"
     ]
    }
   ],
   "source": [
    "kg1.kedelapan_r(data)"
   ]
  },
  {
   "cell_type": "code",
   "execution_count": 25,
   "metadata": {},
   "outputs": [
    {
     "output_type": "stream",
     "name": "stdout",
     "text": [
      "191\n"
     ]
    }
   ],
   "source": [
    "print(kg1.kesembilan_o(data, \"\"))"
   ]
  },
  {
   "cell_type": "code",
   "execution_count": 27,
   "metadata": {},
   "outputs": [
    {
     "output_type": "stream",
     "name": "stdout",
     "text": [
      "['Zein1mahasiswa', 'Zein3mahasiswa', 'Zein4pengangguran', 'Zein5mahasiswa']\n"
     ]
    }
   ],
   "source": [
    "pprint(kg1.kesepuluh_z(data, 'nama', 'pekerjaan'))"
   ]
  },
  {
   "cell_type": "code",
   "execution_count": null,
   "metadata": {},
   "outputs": [],
   "source": []
  }
 ]
}